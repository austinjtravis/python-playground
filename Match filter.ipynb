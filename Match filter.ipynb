{
 "cells": [
  {
   "cell_type": "code",
   "execution_count": null,
   "id": "8304c816",
   "metadata": {},
   "outputs": [],
   "source": [
    "import numpy as np\n",
    "import numpy.random as npr\n",
    "import matplotlib.cm as cm\n",
    "import matplotlib.pyplot as plt\n"
   ]
  },
  {
   "cell_type": "code",
   "execution_count": null,
   "id": "1e13f145",
   "metadata": {},
   "outputs": [],
   "source": [
    "# functions\n",
    "def noise(shape):\n",
    "    return 1/np.sqrt(2) * (npr.randn(shape) + 1.0j * npr.randn(shape))\n",
    "\n",
    "def to_db(x):\n",
    "    return 20 * np.log10(np.abs(x))\n",
    "\n",
    "def chirp(\n",
    "    time_support,\n",
    "    amp,\n",
    "    fc,\n",
    "    chirp_rate,\n",
    "    t_delay\n",
    "):\n",
    "    return amp*np.exp(1.0j*2*np.pi*(fc*(time_support - t_delay) + chirp_rate*(time_support-t_delay)**2))"
   ]
  },
  {
   "cell_type": "code",
   "execution_count": null,
   "id": "3dd6d6f3",
   "metadata": {},
   "outputs": [],
   "source": [
    "# Define signal\n",
    "fc = 0\n",
    "bandwidth = 10  # Hz\n",
    "nyq_fact = 20\n",
    "fs = nyq_fact * 2 * bandwidth\n",
    "ts = 1/fs\n",
    "duration = 25\n",
    "chirp_rate = bandwidth/duration\n",
    "\n",
    "time_support = np.arange(0, duration, step=ts)\n",
    "n_pt = time_support.size\n",
    "\n",
    "# t_delays = [1.7,4]\n",
    "t_delays = [0, 1.1, duration/4]\n",
    "amp = 2\n",
    "x = np.zeros((len(t_delays), n_pt), dtype=np.complex128)\n",
    "\n",
    "for ii, t_delay in enumerate(t_delays):\n",
    "    \n",
    "    x[ii, :] = chirp(\n",
    "        time_support=time_support,\n",
    "        amp=amp,\n",
    "        fc=fc,\n",
    "        chirp_rate=chirp_rate,\n",
    "        t_delay=t_delay\n",
    "    )\n",
    "\n",
    "n = noise(n_pt)\n",
    "\n",
    "sig = x + n\n"
   ]
  },
  {
   "cell_type": "code",
   "execution_count": null,
   "id": "850aabdc",
   "metadata": {},
   "outputs": [],
   "source": [
    "# View signal\n",
    "_, axs = plt.subplots(\n",
    "    nrows=1,\n",
    "    ncols=2,\n",
    "    clear=True,\n",
    "    num=0\n",
    ")\n",
    "\n",
    "for ii in range(len(t_delays)):\n",
    "    axs[0].plot(time_support, np.real(x[ii,:]))\n",
    "    axs[1].plot(time_support, np.real(sig[ii,:]))\n",
    "plt.show()\n"
   ]
  },
  {
   "cell_type": "code",
   "execution_count": null,
   "id": "75df9638",
   "metadata": {},
   "outputs": [],
   "source": [
    "# Matched filter\n",
    "sig_freq = np.fft.fft(sig, axis=-1)\n",
    "conj_reverse = np.fft.fft(np.conj(sig), axis=-1)\n",
    "matched_freq = sig_freq * conj_reverse\n",
    "\n",
    "matched = np.fft.ifft(matched_freq, axis=-1) / np.sqrt(n_pt)  # normalize gain\n"
   ]
  },
  {
   "cell_type": "code",
   "execution_count": null,
   "id": "cbc95145",
   "metadata": {},
   "outputs": [],
   "source": [
    "_, axs = plt.subplots(\n",
    "    nrows=1,\n",
    "    ncols=1,\n",
    "    clear=True,\n",
    "    num=1,\n",
    "    figsize=(8,8)\n",
    ")\n",
    "\n",
    "sig_db = to_db(matched)\n",
    "\n",
    "colors = cm.get_cmap('jet', len(t_delays))\n",
    "for ii, t_delay in enumerate(t_delays):\n",
    "    axs.plot(time_support/2, sig_db[ii, :], color=colors(ii))\n",
    "    axs.plot([t_delay, t_delay], plt.gca().get_ylim(), '--', color=colors(ii))\n",
    "plt.ylim(sig_db.max()-70, sig_db.max()+3)\n",
    "plt.show()\n"
   ]
  },
  {
   "cell_type": "code",
   "execution_count": null,
   "id": "ed2c6a88",
   "metadata": {},
   "outputs": [],
   "source": []
  }
 ],
 "metadata": {
  "kernelspec": {
   "display_name": "Python 3 (ipykernel)",
   "language": "python",
   "name": "python3"
  },
  "language_info": {
   "codemirror_mode": {
    "name": "ipython",
    "version": 3
   },
   "file_extension": ".py",
   "mimetype": "text/x-python",
   "name": "python",
   "nbconvert_exporter": "python",
   "pygments_lexer": "ipython3",
   "version": "3.8.8"
  }
 },
 "nbformat": 4,
 "nbformat_minor": 5
}
