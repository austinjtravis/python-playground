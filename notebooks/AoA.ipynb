{
 "cells": [
  {
   "cell_type": "code",
   "execution_count": null,
   "id": "c541c2ff",
   "metadata": {},
   "outputs": [],
   "source": [
    "import numpy as np\n",
    "import matplotlib.pyplot as plt"
   ]
  },
  {
   "cell_type": "code",
   "execution_count": null,
   "id": "9e4c920e",
   "metadata": {},
   "outputs": [],
   "source": [
    "wavelen = 1\n",
    "k = 2*np.pi/wavelen\n",
    "n_ula = 32\n",
    "snr = 10\n",
    "n_ang = 128\n",
    "ang = np.linspace(0, np.pi, n_ang)\n",
    "elements = np.arange(n_ula)\n",
    "steering_vec = np.exp(1.0j * k * elements * np.cos(ang[:, np.newaxis]))  # n_ang, n_ula\n",
    "noise = 1/np.sqrt(n_ula) * (np.random.randn(n_ula) + 1.0j * np.random.randn(n_ula))\n",
    "\n",
    "source = snr * np.exp(1.0j * np.pi/4)\n",
    "sig = steering_vec + noise\n",
    "print(sig.shape)"
   ]
  },
  {
   "cell_type": "code",
   "execution_count": null,
   "id": "6da78982",
   "metadata": {},
   "outputs": [],
   "source": [
    "cov = 1/n_ula * np.einsum('au, ak -> auk', sig, np.conj(sig))\n",
    "\n",
    "print(cov.shape)"
   ]
  },
  {
   "cell_type": "code",
   "execution_count": null,
   "id": "8fe74f8c",
   "metadata": {},
   "outputs": [],
   "source": [
    "P = np.zeros(n_ang, dtype=np.complex128)\n",
    "for ii in range(n_ang):\n",
    "    a = steering_vec[ii, :]\n",
    "    R_a = np.matmul(cov[ii, :, :], a)\n",
    "    print\n",
    "    P[ii] = np.matmul(np.conj(steering_vec[ii, :]), R_a)\n",
    "print(P)"
   ]
  },
  {
   "cell_type": "code",
   "execution_count": null,
   "id": "0cf913cd",
   "metadata": {},
   "outputs": [],
   "source": [
    "plt.figure(num=0, clear=True)\n",
    "plt.plot(ang, np.abs(P))"
   ]
  },
  {
   "cell_type": "code",
   "execution_count": null,
   "id": "140602de",
   "metadata": {},
   "outputs": [],
   "source": [
    "def steering_vector(array,theta):\n",
    "    N = array.shape\n",
    "    steering_vec = np.exp(1j*2*np.pi*array*np.sin(theta))\n",
    "    return steering_vec/np.sqrt(N)  # normalize\n",
    "\n",
    "wavelength = 1 # wavelength\n",
    "wavenumber = np.pi/lamda # wave number\n",
    "n_ula = 32  # number of elements in uniform linear array \n",
    "snr = 10 # signal to noise ratio\n",
    "element_spacing = wavelength/2\n",
    "\n",
    "antenna_locations = np.arange(0, n_ula/2, step=element_spacing)\n",
    "print(array.size)\n",
    "\n",
    "signal_doas = np.array([0, np.pi/4])  # signal direction of arrival\n",
    "n_source = signal_doas.size\n",
    "sig_mag = np.ones(n_source)\n",
    "\n",
    "n_angle = 360\n",
    "angles = np.linspace(-np.pi/2,np.pi/2,n_angle)\n",
    "n_angle = angles.size\n",
    "\n",
    "h = np.zeros(array.size)\n",
    "for i_source in range(n_source):\n",
    "    print(h)\n",
    "    h = h + sig_mag[i_source] * steering_vector(antenna_locations, signal_doas[i_source])\n",
    "\n",
    "hv = np.zeros(n_angle)\n",
    "for j in range(n_angle):\n",
    "    av = steering_vector(antenna_locations,angles[j])\n",
    "    hv[j] = np.abs(np.inner(h,av.conj()))\n",
    "\n",
    "plt.figure(num=0, clear=True)\n",
    "plt.plot(antenna_locations,np.zeros(antenna_locations.size),'^', label='elements')\n",
    "plt.title('Uniform Linear Array')\n",
    "plt.legend()\n",
    "\n",
    "plt.figure(num=1, clear=True)\n",
    "plt.plot(angles,hv)\n",
    "plt.plot(signal_doas, sig_mag,'*')\n",
    "plt.title('Correlation')\n",
    "plt.legend(['Correlation power','Actual DoAs'])\n",
    "plt.show()"
   ]
  },
  {
   "cell_type": "code",
   "execution_count": null,
   "id": "165adbf9",
   "metadata": {},
   "outputs": [],
   "source": []
  }
 ],
 "metadata": {
  "kernelspec": {
   "display_name": "Python 3 (ipykernel)",
   "language": "python",
   "name": "python3"
  },
  "language_info": {
   "codemirror_mode": {
    "name": "ipython",
    "version": 3
   },
   "file_extension": ".py",
   "mimetype": "text/x-python",
   "name": "python",
   "nbconvert_exporter": "python",
   "pygments_lexer": "ipython3",
   "version": "3.8.8"
  }
 },
 "nbformat": 4,
 "nbformat_minor": 5
}
