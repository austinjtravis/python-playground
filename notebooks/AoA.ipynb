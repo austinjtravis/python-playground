{
 "cells": [
  {
   "cell_type": "code",
   "execution_count": 1,
   "id": "c541c2ff",
   "metadata": {},
   "outputs": [],
   "source": [
    "import numpy as np\n",
    "import matplotlib.pyplot as plt"
   ]
  },
  {
   "cell_type": "code",
   "execution_count": null,
   "id": "9e4c920e",
   "metadata": {},
   "outputs": [],
   "source": [
    "wavelen = 1\n",
    "k = 2*np.pi/wavelen\n",
    "n_ula = 32\n",
    "snr = 10\n",
    "n_ang = 128\n",
    "ang = np.linspace(0, np.pi, n_ang)\n",
    "elements = np.arange(n_ula)\n",
    "steering_vec = np.exp(1.0j * k * elements * np.cos(ang[:, np.newaxis]))  # n_ang, n_ula\n",
    "noise = 1/np.sqrt(n_ula) * (np.random.randn(n_ula) + 1.0j * np.random.randn(n_ula))\n",
    "\n",
    "source = snr * np.exp(1.0j * np.pi/4)\n",
    "sig = steering_vec + noise\n",
    "print(sig.shape)"
   ]
  },
  {
   "cell_type": "code",
   "execution_count": null,
   "id": "6da78982",
   "metadata": {},
   "outputs": [],
   "source": [
    "cov = 1/n_ula * np.einsum('au, ak -> auk', sig, np.conj(sig))\n",
    "\n",
    "print(cov.shape)"
   ]
  },
  {
   "cell_type": "code",
   "execution_count": null,
   "id": "8fe74f8c",
   "metadata": {},
   "outputs": [],
   "source": [
    "P = np.zeros(n_ang, dtype=np.complex128)\n",
    "for ii in range(n_ang):\n",
    "    a = steering_vec[ii, :]\n",
    "    R_a = np.matmul(cov[ii, :, :], a)\n",
    "    print\n",
    "    P[ii] = np.matmul(np.conj(steering_vec[ii, :]), R_a)\n",
    "print(P)"
   ]
  },
  {
   "cell_type": "code",
   "execution_count": null,
   "id": "0cf913cd",
   "metadata": {},
   "outputs": [],
   "source": [
    "plt.figure(num=0, clear=True)\n",
    "plt.plot(ang, np.abs(P))"
   ]
  },
  {
   "cell_type": "code",
   "execution_count": 8,
   "id": "140602de",
   "metadata": {},
   "outputs": [
    {
     "name": "stdout",
     "output_type": "stream",
     "text": [
      "[ 0.   0.5  1.   1.5  2.   2.5  3.   3.5  4.   4.5  5.   5.5  6.   6.5\n",
      "  7.   7.5  8.   8.5  9.   9.5 10.  10.5 11.  11.5 12.  12.5 13.  13.5\n",
      " 14.  14.5 15.  15.5]\n"
     ]
    },
    {
     "data": {
      "text/plain": [
       "[<matplotlib.lines.Line2D at 0x7f7b04576760>]"
      ]
     },
     "execution_count": 8,
     "metadata": {},
     "output_type": "execute_result"
    },
    {
     "data": {
      "image/png": "[encoded data removed]",
      "text/plain": [
       "<Figure size 432x288 with 1 Axes>"
      ]
     },
     "metadata": {
      "needs_background": "light"
     },
     "output_type": "display_data"
    }
   ],
   "source": [
    "def array_response_vector(array,theta):\n",
    "    N = array.shape\n",
    "    v = np.exp(1j*2*np.pi*array*np.sin(theta))\n",
    "    return v/np.sqrt(N)\n",
    "\n",
    "lamda = 1 # wavelength\n",
    "kappa = np.pi/lamda # wave number\n",
    "n_source = 5  # number of sources\n",
    "n_ula = 32  # number of ULA elements \n",
    "snr = 10 # signal to noise ratio\n",
    "\n",
    "array = np.linspace(0,(n_ula-1)/2,n_ula)\n",
    "print(array)\n",
    "\n",
    "doas = np.pi*np.random.randn(n_source)   # random source directions\n",
    "noise = 1/np.sqrt(2) * (np.random.randn(n_source) + 1.0j * np.random.randn(n_source))\n",
    "Alphas = np.random.randn(n_source) + np.random.randn(n_source)*1j # random source powers\n",
    "Alphas = np.sqrt(1/2)*Alphas\n",
    "sig_snrs = np.ones(n_source)\n",
    "sig = sig_snrs*doas + noise\n",
    "#print(Thetas)\n",
    "#print(Alphas)\n",
    "\n",
    "h = np.zeros(n_ula)\n",
    "for i in range(n_source):\n",
    "    h = h + sig[i]*array_response_vector(array,doas[i])\n",
    "\n",
    "Angles = np.linspace(-np.pi/2,np.pi/2,360)\n",
    "numAngles = Angles.size\n",
    "\n",
    "power_estimate = np.zeros(numAngles)\n",
    "for j in range(numAngles):\n",
    "    av = array_response_vector(array,Angles[j])\n",
    "    power_estimate[j] = np.abs(np.inner(h,av.conj()))\n",
    "\n",
    "powers = np.zeros(n_source)\n",
    "for j in range(n_source):\n",
    "    av = array_response_vector(array,doas[j])\n",
    "    powers[j] = np.abs(np.inner(h,av.conj()))\n",
    "\n",
    "plt.figure(num=0, clear=True)\n",
    "plt.plot(Angles, np.abs(power_estimate))\n",
    "plt.plot(doas,powers,'*')"
   ]
  },
  {
   "cell_type": "code",
   "execution_count": null,
   "id": "165adbf9",
   "metadata": {},
   "outputs": [],
   "source": []
  }
 ],
 "metadata": {
  "kernelspec": {
   "display_name": "Python 3 (ipykernel)",
   "language": "python",
   "name": "python3"
  },
  "language_info": {
   "codemirror_mode": {
    "name": "ipython",
    "version": 3
   },
   "file_extension": ".py",
   "mimetype": "text/x-python",
   "name": "python",
   "nbconvert_exporter": "python",
   "pygments_lexer": "ipython3",
   "version": "3.8.8"
  }
 },
 "nbformat": 4,
 "nbformat_minor": 5
}
