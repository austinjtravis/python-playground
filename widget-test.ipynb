{
 "cells": [
  {
   "cell_type": "code",
   "execution_count": null,
   "id": "cc2ee781",
   "metadata": {},
   "outputs": [],
   "source": [
    "import ipywidgets as widgets\n",
    "import matplotlib.pyplot as plt\n",
    "import numpy as np\n",
    "\n",
    "from scipy.stats import norm\n"
   ]
  },
  {
   "cell_type": "code",
   "execution_count": null,
   "id": "1ee102e2",
   "metadata": {},
   "outputs": [],
   "source": [
    "def plot(freq):\n",
    "    x = np.linspace(0, 2*np.pi)\n",
    "    y = np.sin(x * freq)\n",
    "    plt.plot(x, y, '--k')\n",
    "    plt.ylim((-1, 1))\n",
    "    plt.show()\n",
    "\n",
    "widgets.interact(plot, freq=widgets.FloatSlider(value=2, min=1, max=5, step=0.1))"
   ]
  },
  {
   "cell_type": "code",
   "execution_count": null,
   "id": "238160d1",
   "metadata": {},
   "outputs": [],
   "source": [
    "n_samp = 64\n",
    "x = np.linspace(norm.ppf(0.01), norm.ppf(0.99), n_samp)\n",
    "pdf = norm.pdf(x)\n",
    "cdf = norm.cdf(x)\n",
    "\n",
    "def plot(ii):\n",
    "    plt.fill_between(x[:ii], np.zeros(x[:ii].shape), norm.pdf(x[:ii]), color='C0', label='pdf')\n",
    "    plt.plot(x[:ii], norm.cdf(x[:ii]), color='C1', label='cdf')\n",
    "#     plt.plot([x[:ii], x[:ii]], [0, 1])\n",
    "\n",
    "    plt.ylim((0, 1))\n",
    "    plt.xlim((x[0], x[-1]))\n",
    "    plt.legend()\n",
    "\n",
    "plt.figure(num=0, clear=True)\n",
    "widgets.interact(plot, ii=widgets.IntSlider(value=0, min=0, max=n_samp, step=3))\n"
   ]
  },
  {
   "cell_type": "code",
   "execution_count": null,
   "id": "2275cbcf",
   "metadata": {},
   "outputs": [],
   "source": [
    "pfa = 1e-3\n",
    "n_bkg = 64\n",
    "n_pt = 2**16\n",
    "samps = np.arange(n_pt)\n",
    "\n",
    "kernel = np.concatenate(\n",
    "    (\n",
    "        np.ones(n_bkg//2),\n",
    "        np.zeros(1),\n",
    "        np.ones(n_bkg//2)\n",
    "    )\n",
    ")\n",
    "kernel  # Average\n",
    "threshold = n_bkg * (pfa**(-1/n_bkg) - 1)\n",
    "\n",
    "# sig = 1/np.sqrt(2) * (np.random.randn(n_pt) + 1.0j * np.random.randn(n_pt))\n",
    "sig = np.random.randn(n_pt)\n",
    "sig_pwr = np.abs(sig)**2\n",
    "bkg_est = 1/n_bkg * np.convolve(sig_pwr, kernel, mode='same')\n",
    "detections = sig_pwr > bkg_est * threshold \n",
    "\n",
    "fig, axs = plt.subplots(\n",
    "    nrows=1,\n",
    "    ncols=2,\n",
    "    clear=True,\n",
    "    num=2\n",
    ")\n",
    "\n",
    "axs[0].plot(samps, sig_pwr)\n",
    "axs[0].plot(samps, bkg_est*threshold, '--')\n",
    "axs[1].hist(sig_pwr, bins=64)\n",
    "axs[1].plot([threshold, threshold], axs[1].get_ylim())\n",
    "\n",
    "print(np.sum(detections)/n_pt)"
   ]
  },
  {
   "cell_type": "code",
   "execution_count": null,
   "id": "50621c95",
   "metadata": {},
   "outputs": [],
   "source": [
    "n_pt = 2**11\n",
    "n_bkg = 32  # Number of cells used in background power estimate\n",
    "n_guard = 5  # Number of guard cells\n",
    "\n",
    "# sig = np.random.randn(n_pt)\n",
    "sig = 1/np.sqrt(2) * (np.random.randn(n_pt) + 1.0j * np.random.randn(n_pt))\n",
    "sig_pwr = np.abs(sig)**2\n",
    "\n",
    "def plot_data(n):\n",
    "    pfa = 10**(-n)\n",
    "    samps = np.arange(n_pt)\n",
    "\n",
    "    kernel = np.concatenate(\n",
    "        (np.ones(n_bkg//2), np.zeros(n_guard), np.ones(n_bkg//2))\n",
    "    )\n",
    "    threshold = n_bkg * (pfa**(-1/n_bkg) - 1)\n",
    "\n",
    "    # Get average background power estimate\n",
    "    bkg_est = 1/n_bkg * np.convolve(sig_pwr, kernel, mode='same')\n",
    "    detections = sig_pwr > bkg_est * threshold\n",
    "    \n",
    "    id_detect = np.argwhere(detections).ravel()\n",
    "\n",
    "    plt.plot(samps, sig_pwr)\n",
    "    plt.plot(samps, bkg_est*threshold, '--')\n",
    "    plt.plot(samps[id_detect], sig_pwr[id_detect], 'rx')\n",
    "    meas_pfa = np.sum(detections) / n_pt\n",
    "    plt.title(f'{meas_pfa=:.2e}\\n{pfa=:.2e}')\n",
    "\n",
    "def plot_hist(n):\n",
    "    pfa = 10**(-n)\n",
    "    threshold = n_bkg * (pfa**(-1/n_bkg) - 1)\n",
    "\n",
    "    plt.hist(sig_pwr, bins=64)\n",
    "    plt.plot([threshold, threshold], plt.gca().get_ylim())\n",
    "\n",
    "    \n",
    "w = widgets.FloatSlider(value=1, min=0, max=6, step=0.1)\n",
    "\n",
    "plt.figure(clear=True, num=3)\n",
    "widgets.interact(plot_data, n=w)\n",
    "\n",
    "plt.figure(clear=True, num=4)\n",
    "widgets.interact(plot_hist, n=w)\n"
   ]
  },
  {
   "cell_type": "markdown",
   "id": "79dc65a5",
   "metadata": {},
   "source": [
    "# Test\n",
    "Theory behind notebook.  Probability of false alarm $P_{fa}$ is defined as\n",
    "$$\n",
    "P_{fa} = \\frac{d}{N}\n",
    "$$"
   ]
  },
  {
   "cell_type": "code",
   "execution_count": null,
   "id": "291841c3",
   "metadata": {},
   "outputs": [],
   "source": [
    "10**(-2)"
   ]
  }
 ],
 "metadata": {
  "kernelspec": {
   "display_name": "Python 3 (ipykernel)",
   "language": "python",
   "name": "python3"
  },
  "language_info": {
   "codemirror_mode": {
    "name": "ipython",
    "version": 3
   },
   "file_extension": ".py",
   "mimetype": "text/x-python",
   "name": "python",
   "nbconvert_exporter": "python",
   "pygments_lexer": "ipython3",
   "version": "3.8.8"
  }
 },
 "nbformat": 4,
 "nbformat_minor": 5
}
